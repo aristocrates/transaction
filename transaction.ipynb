{
 "cells": [
  {
   "cell_type": "code",
   "execution_count": 22,
   "metadata": {},
   "outputs": [],
   "source": [
    "\"\"\"\n",
    "Manual transaction simplification system\n",
    "\n",
    "The algorithm:\n",
    "1. Take the sum of all debts (+ or -) for all people\n",
    "    - These are eveyone's centralized debts to the \"central node\"\n",
    "2. Merge the central node with the designated payee (transfer everyone's\n",
    "pairwise debts to this payee); this will be zero sum\n",
    "3. Use a greedy algorithm to assign people who are net in debt to people\n",
    "who will net receive money\n",
    "\n",
    "This gives dumb results in some cases. If A owes 1000 people 1 cent and B\n",
    "owes A 10 dollars, than this will make B owe 1000 people 1 cent.\n",
    "\"\"\"\n",
    "\n",
    "def transaction_adjacency_graph(pairwise_transactions):\n",
    "    \"\"\"\n",
    "    pairwise_transaction:\n",
    "      List of hashes [{\"debtor\": \"person_who_owes\",\n",
    "                       \"pay_to\": \"name\",\n",
    "                       \"amount\": int},\n",
    "                      ...]\n",
    "      amount must be positive\n",
    "    returns:\n",
    "      Undirected weighted adjacency list of debts\n",
    "      {\"person_name_a\": {\"person_name_b\": amount, ...}, ... }\n",
    "    \"\"\"\n",
    "    # get all the people first and set up empty hashes for them all\n",
    "    all_people = ( {t[\"debtor\"] for t in pairwise_transactions} |\n",
    "                   {t[\"pay_to\"] for t in pairwise_transactions} )\n",
    "    adjacency_graph = {k: {} for k in all_people}\n",
    "    # fill the graph\n",
    "    for transaction in pairwise_transactions:\n",
    "        debtor = transaction[\"debtor\"]\n",
    "        pay_to = transaction[\"pay_to\"]\n",
    "        amount = transaction[\"amount\"]\n",
    "        adjacency_graph[debtor][pay_to] = -amount\n",
    "        adjacency_graph[pay_to][debtor] = amount\n",
    "    return adjacency_graph\n",
    "\n",
    "def simplify_transactions(adjacency_graph):\n",
    "    \"\"\"\n",
    "    Accepts a graph encoded as an undirected weighted adjacency list\n",
    "      {\"person_name_a\": {\"person_name_b\": amount, ...}, ... }\n",
    "\n",
    "    Returns a hash of {\"person_name_a\": {\"person_name_b\": amount}}\n",
    "      where person_name_a pays amount to person_name_b\n",
    "      amount is always positive\n",
    "    \"\"\"\n",
    "    people = adjacency_graph.keys()\n",
    "    people_to_total_debt = {k: sum(adjacency_graph[k].values())\n",
    "                            for k in people}\n",
    "    receivers = [[p, people_to_total_debt[p]] for p in people\n",
    "                  if people_to_total_debt[p] > 0]\n",
    "    givers = [[p, -people_to_total_debt[p]] for p in people\n",
    "               if people_to_total_debt[p] < 0]\n",
    "\n",
    "    # assign debts\n",
    "    simplified_debt_hash = {}\n",
    "    current_receiver = 0\n",
    "    current_giver = 0\n",
    "    while current_receiver < len(receivers):\n",
    "        if givers[current_giver][1] < receivers[current_receiver][1]:\n",
    "            give_amount  = givers[current_giver][1]\n",
    "            give_name    = givers[current_giver][0]\n",
    "            receive_name = receivers[current_receiver][0]\n",
    "            givers[current_giver][1]       -= give_amount\n",
    "            receivers[current_receiver][1] -= give_amount\n",
    "            simplified_debt_hash[give_name] = {receive_name: give_amount}\n",
    "            current_giver += 1\n",
    "        else:\n",
    "            give_amount  = receivers[current_receiver][1]\n",
    "            give_name    = givers[current_giver][0]\n",
    "            receive_name = receivers[current_receiver][0]\n",
    "            givers[current_giver][1]       -= give_amount\n",
    "            receivers[current_receiver][1] -= give_amount\n",
    "            simplified_debt_hash[give_name] = {receive_name: give_amount}\n",
    "            current_receiver += 1\n",
    "    return simplified_debt_hash"
   ]
  },
  {
   "cell_type": "code",
   "execution_count": 23,
   "metadata": {},
   "outputs": [],
   "source": [
    "test_case_adjacency_graph = transaction_adjacency_graph([{\"debtor\": \"Kevin\", \"pay_to\": \"Xander\", \"amount\": 100}, {\"debtor\": \"Nick\", \"pay_to\": \"Xander\", \"amount\": 100}, {\"debtor\": \"Kevin\", \"pay_to\": \"Nick\", \"amount\": 30}])"
   ]
  },
  {
   "cell_type": "code",
   "execution_count": 24,
   "metadata": {},
   "outputs": [
    {
     "data": {
      "text/plain": [
       "{'Nick': {'Xander': 70}, 'Kevin': {'Xander': 130}}"
      ]
     },
     "execution_count": 24,
     "metadata": {},
     "output_type": "execute_result"
    }
   ],
   "source": [
    "simplify_transactions(test_case_adjacency_graph)"
   ]
  },
  {
   "cell_type": "code",
   "execution_count": null,
   "metadata": {},
   "outputs": [],
   "source": []
  }
 ],
 "metadata": {
  "kernelspec": {
   "display_name": "Python 3",
   "language": "python3",
   "name": "python3"
  },
  "language_info": {
   "codemirror_mode": {
    "name": "ipython",
    "version": 3
   },
   "file_extension": ".py",
   "mimetype": "text/x-python",
   "name": "python",
   "nbconvert_exporter": "python",
   "pygments_lexer": "ipython3",
   "version": "3.6.6"
  }
 },
 "nbformat": 4,
 "nbformat_minor": 2
}
